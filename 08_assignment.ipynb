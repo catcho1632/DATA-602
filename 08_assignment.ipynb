{
 "cells": [
  {
   "cell_type": "markdown",
   "metadata": {
    "id": "view-in-github"
   },
   "source": [
    "<a href=\"https://colab.research.google.com/github/data602sps/assignments/blob/master/05_assignment.ipynb\" target=\"_parent\"><img src=\"https://colab.research.google.com/assets/colab-badge.svg\" alt=\"Open In Colab\"/></a>"
   ]
  },
  {
   "cell_type": "markdown",
   "metadata": {
    "id": "rd2QZetSDszc"
   },
   "source": [
    "# **Assignment 8**\n",
    "\n",
    "# **Weeks 10 & 11 - matplotlib & seaborn**\n",
    "* In this homework assignment, you will explore and analyze a public dataset of your choosing. Since this assignment is “open-ended” in nature, you are free to expand upon the requirements below. However, you must meet the minimum requirments as indicated in each section. \n",
    "\n",
    "\n",
    "* The preferred method for this analysis is in a .ipynb file. Feel free to use whichever platform of your choosing.  \n",
    "\n",
    "\n",
    "### **Some data examples:**\n",
    "•\thttps://www.data.gov/\n",
    "\n",
    "•\thttps://opendata.cityofnewyork.us/\n",
    "\n",
    "•\thttps://datasetsearch.research.google.com/\n",
    "\n",
    "•\thttps://archive.ics.uci.edu/ml/index.php\n",
    "\n",
    "### **Resources:**\n",
    "\n",
    "•\thttps://pandas.pydata.org/pandas-docs/stable/getting_started/10min.html \n",
    "\n",
    "•\thttps://www.oreilly.com/library/view/python-data-science/9781491912126/ch04.html\n",
    "\n",
    "•\thttps://www.data-to-viz.com/\n",
    "\n",
    "\n",
    "\n",
    "### **Headings or comments**\n",
    "**You are required to make use of comments, or headings for each section.  You must explain what your code is doing, and the results of running your code.**  Act as if you were giving this assignment to your manager - you must include clear and descriptive information for each section.\n",
    "\n",
    "### **You may work as a group or indivdually on this assignment.**\n"
   ]
  },
  {
   "cell_type": "markdown",
   "metadata": {
    "id": "uW3w6p8rqgxu"
   },
   "source": [
    "# Introduction\n",
    "\n",
    "In this section, please describe the dataset you are using.  Include a link to the source of this data.  You should also provide some explanation on why you choose this dataset."
   ]
  },
  {
   "cell_type": "markdown",
   "metadata": {
    "id": "L0PnfMOFzOXz"
   },
   "source": [
    "This data was gathered by the Coffee Quality Institue, which reviews arabica coffee from specialized reviewers. The arabica coffee is believed to be the first species of coffee to be have been cultivated, and represents 60% of the world's coffee production. I chose this dataset because my brother in-law is a certified Q grader, and he introduced to me to the different methods that coffee is processed and different categories considered when grading coffee. I would like to see what the characterisitcs of coffee is most favorable to its total cup points. \n",
    "\n",
    "https://www.kaggle.com/datasets/volpatto/coffee-quality-database-from-cqi?resource=download&select=arabica_data_cleaned.csv"
   ]
  },
  {
   "cell_type": "markdown",
   "metadata": {
    "id": "3bp8cdDxDs2t"
   },
   "source": [
    "______________\n",
    "# Data Exploration\n",
    "Import your dataset into your .ipynb, create dataframes, and explore your data.  \n",
    "\n",
    "Include: \n",
    "\n",
    "* Summary statistics means, medians, quartiles, \n",
    "* Missing value information\n",
    "* Any other relevant information about the dataset.  \n",
    "\n"
   ]
  },
  {
   "cell_type": "markdown",
   "metadata": {},
   "source": [
    "**The following shows the columns available in this dataset.**"
   ]
  },
  {
   "cell_type": "code",
   "execution_count": 1,
   "metadata": {
    "id": "3NUlO_ru1WqR"
   },
   "outputs": [
    {
     "data": {
      "text/plain": [
       "Index(['Unnamed: 0', 'Species', 'Owner', 'Country.of.Origin', 'Farm.Name',\n",
       "       'Lot.Number', 'Mill', 'ICO.Number', 'Company', 'Altitude', 'Region',\n",
       "       'Producer', 'Number.of.Bags', 'Bag.Weight', 'In.Country.Partner',\n",
       "       'Harvest.Year', 'Grading.Date', 'Owner.1', 'Variety',\n",
       "       'Processing.Method', 'Aroma', 'Flavor', 'Aftertaste', 'Acidity', 'Body',\n",
       "       'Balance', 'Uniformity', 'Clean.Cup', 'Sweetness', 'Cupper.Points',\n",
       "       'Total.Cup.Points', 'Moisture', 'Category.One.Defects', 'Quakers',\n",
       "       'Color', 'Category.Two.Defects', 'Expiration', 'Certification.Body',\n",
       "       'Certification.Address', 'Certification.Contact', 'unit_of_measurement',\n",
       "       'altitude_low_meters', 'altitude_high_meters', 'altitude_mean_meters'],\n",
       "      dtype='object')"
      ]
     },
     "execution_count": 1,
     "metadata": {},
     "output_type": "execute_result"
    }
   ],
   "source": [
    "import pandas as pd\n",
    "df = pd.read_csv('https://raw.githubusercontent.com/catcho1632/DATA-602/main/arabica_data_cleaned.csv')\n",
    "df.columns"
   ]
  },
  {
   "cell_type": "markdown",
   "metadata": {},
   "source": [
    "**There are 1311 data points in this dataset with 44 total columns**"
   ]
  },
  {
   "cell_type": "code",
   "execution_count": 2,
   "metadata": {},
   "outputs": [
    {
     "data": {
      "text/plain": [
       "(1311, 44)"
      ]
     },
     "execution_count": 2,
     "metadata": {},
     "output_type": "execute_result"
    }
   ],
   "source": [
    "df.shape"
   ]
  },
  {
   "cell_type": "code",
   "execution_count": 3,
   "metadata": {},
   "outputs": [
    {
     "data": {
      "text/html": [
       "<div>\n",
       "<style scoped>\n",
       "    .dataframe tbody tr th:only-of-type {\n",
       "        vertical-align: middle;\n",
       "    }\n",
       "\n",
       "    .dataframe tbody tr th {\n",
       "        vertical-align: top;\n",
       "    }\n",
       "\n",
       "    .dataframe thead th {\n",
       "        text-align: right;\n",
       "    }\n",
       "</style>\n",
       "<table border=\"1\" class=\"dataframe\">\n",
       "  <thead>\n",
       "    <tr style=\"text-align: right;\">\n",
       "      <th></th>\n",
       "      <th>Unnamed: 0</th>\n",
       "      <th>Species</th>\n",
       "      <th>Owner</th>\n",
       "      <th>Country.of.Origin</th>\n",
       "      <th>Farm.Name</th>\n",
       "      <th>Lot.Number</th>\n",
       "      <th>Mill</th>\n",
       "      <th>ICO.Number</th>\n",
       "      <th>Company</th>\n",
       "      <th>Altitude</th>\n",
       "      <th>Region</th>\n",
       "      <th>Producer</th>\n",
       "      <th>Number.of.Bags</th>\n",
       "      <th>Bag.Weight</th>\n",
       "      <th>In.Country.Partner</th>\n",
       "      <th>Harvest.Year</th>\n",
       "      <th>Grading.Date</th>\n",
       "      <th>Owner.1</th>\n",
       "      <th>Variety</th>\n",
       "      <th>Processing.Method</th>\n",
       "      <th>Aroma</th>\n",
       "      <th>Flavor</th>\n",
       "      <th>Aftertaste</th>\n",
       "      <th>Acidity</th>\n",
       "      <th>Body</th>\n",
       "      <th>Balance</th>\n",
       "      <th>Uniformity</th>\n",
       "      <th>Clean.Cup</th>\n",
       "      <th>Sweetness</th>\n",
       "      <th>Cupper.Points</th>\n",
       "      <th>Total.Cup.Points</th>\n",
       "      <th>Moisture</th>\n",
       "      <th>Category.One.Defects</th>\n",
       "      <th>Quakers</th>\n",
       "      <th>Color</th>\n",
       "      <th>Category.Two.Defects</th>\n",
       "      <th>Expiration</th>\n",
       "      <th>Certification.Body</th>\n",
       "      <th>Certification.Address</th>\n",
       "      <th>Certification.Contact</th>\n",
       "      <th>unit_of_measurement</th>\n",
       "      <th>altitude_low_meters</th>\n",
       "      <th>altitude_high_meters</th>\n",
       "      <th>altitude_mean_meters</th>\n",
       "    </tr>\n",
       "  </thead>\n",
       "  <tbody>\n",
       "    <tr>\n",
       "      <th>0</th>\n",
       "      <td>1</td>\n",
       "      <td>Arabica</td>\n",
       "      <td>metad plc</td>\n",
       "      <td>Ethiopia</td>\n",
       "      <td>metad plc</td>\n",
       "      <td>NaN</td>\n",
       "      <td>metad plc</td>\n",
       "      <td>2014/2015</td>\n",
       "      <td>metad agricultural developmet plc</td>\n",
       "      <td>1950-2200</td>\n",
       "      <td>guji-hambela</td>\n",
       "      <td>METAD PLC</td>\n",
       "      <td>300</td>\n",
       "      <td>60 kg</td>\n",
       "      <td>METAD Agricultural Development plc</td>\n",
       "      <td>2014</td>\n",
       "      <td>April 4th, 2015</td>\n",
       "      <td>metad plc</td>\n",
       "      <td>NaN</td>\n",
       "      <td>Washed / Wet</td>\n",
       "      <td>8.67</td>\n",
       "      <td>8.83</td>\n",
       "      <td>8.67</td>\n",
       "      <td>8.75</td>\n",
       "      <td>8.50</td>\n",
       "      <td>8.42</td>\n",
       "      <td>10.0</td>\n",
       "      <td>10.0</td>\n",
       "      <td>10.0</td>\n",
       "      <td>8.75</td>\n",
       "      <td>90.58</td>\n",
       "      <td>0.12</td>\n",
       "      <td>0</td>\n",
       "      <td>0.0</td>\n",
       "      <td>Green</td>\n",
       "      <td>0</td>\n",
       "      <td>April 3rd, 2016</td>\n",
       "      <td>METAD Agricultural Development plc</td>\n",
       "      <td>309fcf77415a3661ae83e027f7e5f05dad786e44</td>\n",
       "      <td>19fef5a731de2db57d16da10287413f5f99bc2dd</td>\n",
       "      <td>m</td>\n",
       "      <td>1950.0</td>\n",
       "      <td>2200.0</td>\n",
       "      <td>2075.0</td>\n",
       "    </tr>\n",
       "    <tr>\n",
       "      <th>1</th>\n",
       "      <td>2</td>\n",
       "      <td>Arabica</td>\n",
       "      <td>metad plc</td>\n",
       "      <td>Ethiopia</td>\n",
       "      <td>metad plc</td>\n",
       "      <td>NaN</td>\n",
       "      <td>metad plc</td>\n",
       "      <td>2014/2015</td>\n",
       "      <td>metad agricultural developmet plc</td>\n",
       "      <td>1950-2200</td>\n",
       "      <td>guji-hambela</td>\n",
       "      <td>METAD PLC</td>\n",
       "      <td>300</td>\n",
       "      <td>60 kg</td>\n",
       "      <td>METAD Agricultural Development plc</td>\n",
       "      <td>2014</td>\n",
       "      <td>April 4th, 2015</td>\n",
       "      <td>metad plc</td>\n",
       "      <td>Other</td>\n",
       "      <td>Washed / Wet</td>\n",
       "      <td>8.75</td>\n",
       "      <td>8.67</td>\n",
       "      <td>8.50</td>\n",
       "      <td>8.58</td>\n",
       "      <td>8.42</td>\n",
       "      <td>8.42</td>\n",
       "      <td>10.0</td>\n",
       "      <td>10.0</td>\n",
       "      <td>10.0</td>\n",
       "      <td>8.58</td>\n",
       "      <td>89.92</td>\n",
       "      <td>0.12</td>\n",
       "      <td>0</td>\n",
       "      <td>0.0</td>\n",
       "      <td>Green</td>\n",
       "      <td>1</td>\n",
       "      <td>April 3rd, 2016</td>\n",
       "      <td>METAD Agricultural Development plc</td>\n",
       "      <td>309fcf77415a3661ae83e027f7e5f05dad786e44</td>\n",
       "      <td>19fef5a731de2db57d16da10287413f5f99bc2dd</td>\n",
       "      <td>m</td>\n",
       "      <td>1950.0</td>\n",
       "      <td>2200.0</td>\n",
       "      <td>2075.0</td>\n",
       "    </tr>\n",
       "    <tr>\n",
       "      <th>2</th>\n",
       "      <td>3</td>\n",
       "      <td>Arabica</td>\n",
       "      <td>grounds for health admin</td>\n",
       "      <td>Guatemala</td>\n",
       "      <td>san marcos barrancas \"san cristobal cuch</td>\n",
       "      <td>NaN</td>\n",
       "      <td>NaN</td>\n",
       "      <td>NaN</td>\n",
       "      <td>NaN</td>\n",
       "      <td>1600 - 1800 m</td>\n",
       "      <td>NaN</td>\n",
       "      <td>NaN</td>\n",
       "      <td>5</td>\n",
       "      <td>1</td>\n",
       "      <td>Specialty Coffee Association</td>\n",
       "      <td>NaN</td>\n",
       "      <td>May 31st, 2010</td>\n",
       "      <td>Grounds for Health Admin</td>\n",
       "      <td>Bourbon</td>\n",
       "      <td>NaN</td>\n",
       "      <td>8.42</td>\n",
       "      <td>8.50</td>\n",
       "      <td>8.42</td>\n",
       "      <td>8.42</td>\n",
       "      <td>8.33</td>\n",
       "      <td>8.42</td>\n",
       "      <td>10.0</td>\n",
       "      <td>10.0</td>\n",
       "      <td>10.0</td>\n",
       "      <td>9.25</td>\n",
       "      <td>89.75</td>\n",
       "      <td>0.00</td>\n",
       "      <td>0</td>\n",
       "      <td>0.0</td>\n",
       "      <td>NaN</td>\n",
       "      <td>0</td>\n",
       "      <td>May 31st, 2011</td>\n",
       "      <td>Specialty Coffee Association</td>\n",
       "      <td>36d0d00a3724338ba7937c52a378d085f2172daa</td>\n",
       "      <td>0878a7d4b9d35ddbf0fe2ce69a2062cceb45a660</td>\n",
       "      <td>m</td>\n",
       "      <td>1600.0</td>\n",
       "      <td>1800.0</td>\n",
       "      <td>1700.0</td>\n",
       "    </tr>\n",
       "    <tr>\n",
       "      <th>3</th>\n",
       "      <td>4</td>\n",
       "      <td>Arabica</td>\n",
       "      <td>yidnekachew dabessa</td>\n",
       "      <td>Ethiopia</td>\n",
       "      <td>yidnekachew dabessa coffee plantation</td>\n",
       "      <td>NaN</td>\n",
       "      <td>wolensu</td>\n",
       "      <td>NaN</td>\n",
       "      <td>yidnekachew debessa coffee plantation</td>\n",
       "      <td>1800-2200</td>\n",
       "      <td>oromia</td>\n",
       "      <td>Yidnekachew Dabessa Coffee Plantation</td>\n",
       "      <td>320</td>\n",
       "      <td>60 kg</td>\n",
       "      <td>METAD Agricultural Development plc</td>\n",
       "      <td>2014</td>\n",
       "      <td>March 26th, 2015</td>\n",
       "      <td>Yidnekachew Dabessa</td>\n",
       "      <td>NaN</td>\n",
       "      <td>Natural / Dry</td>\n",
       "      <td>8.17</td>\n",
       "      <td>8.58</td>\n",
       "      <td>8.42</td>\n",
       "      <td>8.42</td>\n",
       "      <td>8.50</td>\n",
       "      <td>8.25</td>\n",
       "      <td>10.0</td>\n",
       "      <td>10.0</td>\n",
       "      <td>10.0</td>\n",
       "      <td>8.67</td>\n",
       "      <td>89.00</td>\n",
       "      <td>0.11</td>\n",
       "      <td>0</td>\n",
       "      <td>0.0</td>\n",
       "      <td>Green</td>\n",
       "      <td>2</td>\n",
       "      <td>March 25th, 2016</td>\n",
       "      <td>METAD Agricultural Development plc</td>\n",
       "      <td>309fcf77415a3661ae83e027f7e5f05dad786e44</td>\n",
       "      <td>19fef5a731de2db57d16da10287413f5f99bc2dd</td>\n",
       "      <td>m</td>\n",
       "      <td>1800.0</td>\n",
       "      <td>2200.0</td>\n",
       "      <td>2000.0</td>\n",
       "    </tr>\n",
       "    <tr>\n",
       "      <th>4</th>\n",
       "      <td>5</td>\n",
       "      <td>Arabica</td>\n",
       "      <td>metad plc</td>\n",
       "      <td>Ethiopia</td>\n",
       "      <td>metad plc</td>\n",
       "      <td>NaN</td>\n",
       "      <td>metad plc</td>\n",
       "      <td>2014/2015</td>\n",
       "      <td>metad agricultural developmet plc</td>\n",
       "      <td>1950-2200</td>\n",
       "      <td>guji-hambela</td>\n",
       "      <td>METAD PLC</td>\n",
       "      <td>300</td>\n",
       "      <td>60 kg</td>\n",
       "      <td>METAD Agricultural Development plc</td>\n",
       "      <td>2014</td>\n",
       "      <td>April 4th, 2015</td>\n",
       "      <td>metad plc</td>\n",
       "      <td>Other</td>\n",
       "      <td>Washed / Wet</td>\n",
       "      <td>8.25</td>\n",
       "      <td>8.50</td>\n",
       "      <td>8.25</td>\n",
       "      <td>8.50</td>\n",
       "      <td>8.42</td>\n",
       "      <td>8.33</td>\n",
       "      <td>10.0</td>\n",
       "      <td>10.0</td>\n",
       "      <td>10.0</td>\n",
       "      <td>8.58</td>\n",
       "      <td>88.83</td>\n",
       "      <td>0.12</td>\n",
       "      <td>0</td>\n",
       "      <td>0.0</td>\n",
       "      <td>Green</td>\n",
       "      <td>2</td>\n",
       "      <td>April 3rd, 2016</td>\n",
       "      <td>METAD Agricultural Development plc</td>\n",
       "      <td>309fcf77415a3661ae83e027f7e5f05dad786e44</td>\n",
       "      <td>19fef5a731de2db57d16da10287413f5f99bc2dd</td>\n",
       "      <td>m</td>\n",
       "      <td>1950.0</td>\n",
       "      <td>2200.0</td>\n",
       "      <td>2075.0</td>\n",
       "    </tr>\n",
       "  </tbody>\n",
       "</table>\n",
       "</div>"
      ],
      "text/plain": [
       "   Unnamed: 0  Species                     Owner Country.of.Origin  \\\n",
       "0           1  Arabica                 metad plc          Ethiopia   \n",
       "1           2  Arabica                 metad plc          Ethiopia   \n",
       "2           3  Arabica  grounds for health admin         Guatemala   \n",
       "3           4  Arabica       yidnekachew dabessa          Ethiopia   \n",
       "4           5  Arabica                 metad plc          Ethiopia   \n",
       "\n",
       "                                  Farm.Name Lot.Number       Mill ICO.Number  \\\n",
       "0                                 metad plc        NaN  metad plc  2014/2015   \n",
       "1                                 metad plc        NaN  metad plc  2014/2015   \n",
       "2  san marcos barrancas \"san cristobal cuch        NaN        NaN        NaN   \n",
       "3     yidnekachew dabessa coffee plantation        NaN    wolensu        NaN   \n",
       "4                                 metad plc        NaN  metad plc  2014/2015   \n",
       "\n",
       "                                 Company       Altitude        Region  \\\n",
       "0      metad agricultural developmet plc      1950-2200  guji-hambela   \n",
       "1      metad agricultural developmet plc      1950-2200  guji-hambela   \n",
       "2                                    NaN  1600 - 1800 m           NaN   \n",
       "3  yidnekachew debessa coffee plantation      1800-2200        oromia   \n",
       "4      metad agricultural developmet plc      1950-2200  guji-hambela   \n",
       "\n",
       "                                Producer  Number.of.Bags Bag.Weight  \\\n",
       "0                              METAD PLC             300      60 kg   \n",
       "1                              METAD PLC             300      60 kg   \n",
       "2                                    NaN               5          1   \n",
       "3  Yidnekachew Dabessa Coffee Plantation             320      60 kg   \n",
       "4                              METAD PLC             300      60 kg   \n",
       "\n",
       "                   In.Country.Partner Harvest.Year      Grading.Date  \\\n",
       "0  METAD Agricultural Development plc         2014   April 4th, 2015   \n",
       "1  METAD Agricultural Development plc         2014   April 4th, 2015   \n",
       "2        Specialty Coffee Association          NaN    May 31st, 2010   \n",
       "3  METAD Agricultural Development plc         2014  March 26th, 2015   \n",
       "4  METAD Agricultural Development plc         2014   April 4th, 2015   \n",
       "\n",
       "                    Owner.1  Variety Processing.Method  Aroma  Flavor  \\\n",
       "0                 metad plc      NaN      Washed / Wet   8.67    8.83   \n",
       "1                 metad plc    Other      Washed / Wet   8.75    8.67   \n",
       "2  Grounds for Health Admin  Bourbon               NaN   8.42    8.50   \n",
       "3       Yidnekachew Dabessa      NaN     Natural / Dry   8.17    8.58   \n",
       "4                 metad plc    Other      Washed / Wet   8.25    8.50   \n",
       "\n",
       "   Aftertaste  Acidity  Body  Balance  Uniformity  Clean.Cup  Sweetness  \\\n",
       "0        8.67     8.75  8.50     8.42        10.0       10.0       10.0   \n",
       "1        8.50     8.58  8.42     8.42        10.0       10.0       10.0   \n",
       "2        8.42     8.42  8.33     8.42        10.0       10.0       10.0   \n",
       "3        8.42     8.42  8.50     8.25        10.0       10.0       10.0   \n",
       "4        8.25     8.50  8.42     8.33        10.0       10.0       10.0   \n",
       "\n",
       "   Cupper.Points  Total.Cup.Points  Moisture  Category.One.Defects  Quakers  \\\n",
       "0           8.75             90.58      0.12                     0      0.0   \n",
       "1           8.58             89.92      0.12                     0      0.0   \n",
       "2           9.25             89.75      0.00                     0      0.0   \n",
       "3           8.67             89.00      0.11                     0      0.0   \n",
       "4           8.58             88.83      0.12                     0      0.0   \n",
       "\n",
       "   Color  Category.Two.Defects        Expiration  \\\n",
       "0  Green                     0   April 3rd, 2016   \n",
       "1  Green                     1   April 3rd, 2016   \n",
       "2    NaN                     0    May 31st, 2011   \n",
       "3  Green                     2  March 25th, 2016   \n",
       "4  Green                     2   April 3rd, 2016   \n",
       "\n",
       "                   Certification.Body  \\\n",
       "0  METAD Agricultural Development plc   \n",
       "1  METAD Agricultural Development plc   \n",
       "2        Specialty Coffee Association   \n",
       "3  METAD Agricultural Development plc   \n",
       "4  METAD Agricultural Development plc   \n",
       "\n",
       "                      Certification.Address  \\\n",
       "0  309fcf77415a3661ae83e027f7e5f05dad786e44   \n",
       "1  309fcf77415a3661ae83e027f7e5f05dad786e44   \n",
       "2  36d0d00a3724338ba7937c52a378d085f2172daa   \n",
       "3  309fcf77415a3661ae83e027f7e5f05dad786e44   \n",
       "4  309fcf77415a3661ae83e027f7e5f05dad786e44   \n",
       "\n",
       "                      Certification.Contact unit_of_measurement  \\\n",
       "0  19fef5a731de2db57d16da10287413f5f99bc2dd                   m   \n",
       "1  19fef5a731de2db57d16da10287413f5f99bc2dd                   m   \n",
       "2  0878a7d4b9d35ddbf0fe2ce69a2062cceb45a660                   m   \n",
       "3  19fef5a731de2db57d16da10287413f5f99bc2dd                   m   \n",
       "4  19fef5a731de2db57d16da10287413f5f99bc2dd                   m   \n",
       "\n",
       "   altitude_low_meters  altitude_high_meters  altitude_mean_meters  \n",
       "0               1950.0                2200.0                2075.0  \n",
       "1               1950.0                2200.0                2075.0  \n",
       "2               1600.0                1800.0                1700.0  \n",
       "3               1800.0                2200.0                2000.0  \n",
       "4               1950.0                2200.0                2075.0  "
      ]
     },
     "execution_count": 3,
     "metadata": {},
     "output_type": "execute_result"
    }
   ],
   "source": [
    "pd.set_option('display.max_columns',None)\n",
    "df.head()"
   ]
  },
  {
   "cell_type": "markdown",
   "metadata": {},
   "source": [
    "**The sum of all null values in each column is summed up below. There are no null values under any of the quality metrics such as Aroma through Total.Cup.Points. I would be interested in using altitude and processing method for this analysis. In the next section, it will be determined what must be done for the null values.**"
   ]
  },
  {
   "cell_type": "code",
   "execution_count": 4,
   "metadata": {},
   "outputs": [
    {
     "data": {
      "text/plain": [
       "Unnamed: 0                  0\n",
       "Species                     0\n",
       "Owner                       7\n",
       "Country.of.Origin           1\n",
       "Farm.Name                 356\n",
       "Lot.Number               1041\n",
       "Mill                      310\n",
       "ICO.Number                146\n",
       "Company                   209\n",
       "Altitude                  223\n",
       "Region                     57\n",
       "Producer                  230\n",
       "Number.of.Bags              0\n",
       "Bag.Weight                  0\n",
       "In.Country.Partner          0\n",
       "Harvest.Year               47\n",
       "Grading.Date                0\n",
       "Owner.1                     7\n",
       "Variety                   201\n",
       "Processing.Method         152\n",
       "Aroma                       0\n",
       "Flavor                      0\n",
       "Aftertaste                  0\n",
       "Acidity                     0\n",
       "Body                        0\n",
       "Balance                     0\n",
       "Uniformity                  0\n",
       "Clean.Cup                   0\n",
       "Sweetness                   0\n",
       "Cupper.Points               0\n",
       "Total.Cup.Points            0\n",
       "Moisture                    0\n",
       "Category.One.Defects        0\n",
       "Quakers                     1\n",
       "Color                     216\n",
       "Category.Two.Defects        0\n",
       "Expiration                  0\n",
       "Certification.Body          0\n",
       "Certification.Address       0\n",
       "Certification.Contact       0\n",
       "unit_of_measurement         0\n",
       "altitude_low_meters       227\n",
       "altitude_high_meters      227\n",
       "altitude_mean_meters      227\n",
       "dtype: int64"
      ]
     },
     "execution_count": 4,
     "metadata": {},
     "output_type": "execute_result"
    }
   ],
   "source": [
    "df.isnull().sum()"
   ]
  },
  {
   "cell_type": "markdown",
   "metadata": {},
   "source": [
    "**The datatype of each column is shown below.**"
   ]
  },
  {
   "cell_type": "code",
   "execution_count": 5,
   "metadata": {},
   "outputs": [
    {
     "name": "stdout",
     "output_type": "stream",
     "text": [
      "<class 'pandas.core.frame.DataFrame'>\n",
      "RangeIndex: 1311 entries, 0 to 1310\n",
      "Data columns (total 44 columns):\n",
      " #   Column                 Non-Null Count  Dtype  \n",
      "---  ------                 --------------  -----  \n",
      " 0   Unnamed: 0             1311 non-null   int64  \n",
      " 1   Species                1311 non-null   object \n",
      " 2   Owner                  1304 non-null   object \n",
      " 3   Country.of.Origin      1310 non-null   object \n",
      " 4   Farm.Name              955 non-null    object \n",
      " 5   Lot.Number             270 non-null    object \n",
      " 6   Mill                   1001 non-null   object \n",
      " 7   ICO.Number             1165 non-null   object \n",
      " 8   Company                1102 non-null   object \n",
      " 9   Altitude               1088 non-null   object \n",
      " 10  Region                 1254 non-null   object \n",
      " 11  Producer               1081 non-null   object \n",
      " 12  Number.of.Bags         1311 non-null   int64  \n",
      " 13  Bag.Weight             1311 non-null   object \n",
      " 14  In.Country.Partner     1311 non-null   object \n",
      " 15  Harvest.Year           1264 non-null   object \n",
      " 16  Grading.Date           1311 non-null   object \n",
      " 17  Owner.1                1304 non-null   object \n",
      " 18  Variety                1110 non-null   object \n",
      " 19  Processing.Method      1159 non-null   object \n",
      " 20  Aroma                  1311 non-null   float64\n",
      " 21  Flavor                 1311 non-null   float64\n",
      " 22  Aftertaste             1311 non-null   float64\n",
      " 23  Acidity                1311 non-null   float64\n",
      " 24  Body                   1311 non-null   float64\n",
      " 25  Balance                1311 non-null   float64\n",
      " 26  Uniformity             1311 non-null   float64\n",
      " 27  Clean.Cup              1311 non-null   float64\n",
      " 28  Sweetness              1311 non-null   float64\n",
      " 29  Cupper.Points          1311 non-null   float64\n",
      " 30  Total.Cup.Points       1311 non-null   float64\n",
      " 31  Moisture               1311 non-null   float64\n",
      " 32  Category.One.Defects   1311 non-null   int64  \n",
      " 33  Quakers                1310 non-null   float64\n",
      " 34  Color                  1095 non-null   object \n",
      " 35  Category.Two.Defects   1311 non-null   int64  \n",
      " 36  Expiration             1311 non-null   object \n",
      " 37  Certification.Body     1311 non-null   object \n",
      " 38  Certification.Address  1311 non-null   object \n",
      " 39  Certification.Contact  1311 non-null   object \n",
      " 40  unit_of_measurement    1311 non-null   object \n",
      " 41  altitude_low_meters    1084 non-null   float64\n",
      " 42  altitude_high_meters   1084 non-null   float64\n",
      " 43  altitude_mean_meters   1084 non-null   float64\n",
      "dtypes: float64(16), int64(4), object(24)\n",
      "memory usage: 450.8+ KB\n"
     ]
    }
   ],
   "source": [
    "df.info()"
   ]
  },
  {
   "cell_type": "markdown",
   "metadata": {},
   "source": [
    "The summary stastics for each column is shown below. "
   ]
  },
  {
   "cell_type": "code",
   "execution_count": 6,
   "metadata": {},
   "outputs": [
    {
     "data": {
      "text/html": [
       "<div>\n",
       "<style scoped>\n",
       "    .dataframe tbody tr th:only-of-type {\n",
       "        vertical-align: middle;\n",
       "    }\n",
       "\n",
       "    .dataframe tbody tr th {\n",
       "        vertical-align: top;\n",
       "    }\n",
       "\n",
       "    .dataframe thead th {\n",
       "        text-align: right;\n",
       "    }\n",
       "</style>\n",
       "<table border=\"1\" class=\"dataframe\">\n",
       "  <thead>\n",
       "    <tr style=\"text-align: right;\">\n",
       "      <th></th>\n",
       "      <th>Unnamed: 0</th>\n",
       "      <th>Number.of.Bags</th>\n",
       "      <th>Aroma</th>\n",
       "      <th>Flavor</th>\n",
       "      <th>Aftertaste</th>\n",
       "      <th>Acidity</th>\n",
       "      <th>Body</th>\n",
       "      <th>Balance</th>\n",
       "      <th>Uniformity</th>\n",
       "      <th>Clean.Cup</th>\n",
       "      <th>Sweetness</th>\n",
       "      <th>Cupper.Points</th>\n",
       "      <th>Total.Cup.Points</th>\n",
       "      <th>Moisture</th>\n",
       "      <th>Category.One.Defects</th>\n",
       "      <th>Quakers</th>\n",
       "      <th>Category.Two.Defects</th>\n",
       "      <th>altitude_low_meters</th>\n",
       "      <th>altitude_high_meters</th>\n",
       "      <th>altitude_mean_meters</th>\n",
       "    </tr>\n",
       "  </thead>\n",
       "  <tbody>\n",
       "    <tr>\n",
       "      <th>count</th>\n",
       "      <td>1311.000000</td>\n",
       "      <td>1311.000000</td>\n",
       "      <td>1311.000000</td>\n",
       "      <td>1311.000000</td>\n",
       "      <td>1311.000000</td>\n",
       "      <td>1311.000000</td>\n",
       "      <td>1311.000000</td>\n",
       "      <td>1311.000000</td>\n",
       "      <td>1311.000000</td>\n",
       "      <td>1311.00000</td>\n",
       "      <td>1311.000000</td>\n",
       "      <td>1311.000000</td>\n",
       "      <td>1311.000000</td>\n",
       "      <td>1311.000000</td>\n",
       "      <td>1311.000000</td>\n",
       "      <td>1310.000000</td>\n",
       "      <td>1311.000000</td>\n",
       "      <td>1084.000000</td>\n",
       "      <td>1084.000000</td>\n",
       "      <td>1084.000000</td>\n",
       "    </tr>\n",
       "    <tr>\n",
       "      <th>mean</th>\n",
       "      <td>656.000763</td>\n",
       "      <td>153.887872</td>\n",
       "      <td>7.563806</td>\n",
       "      <td>7.518070</td>\n",
       "      <td>7.397696</td>\n",
       "      <td>7.533112</td>\n",
       "      <td>7.517727</td>\n",
       "      <td>7.517506</td>\n",
       "      <td>9.833394</td>\n",
       "      <td>9.83312</td>\n",
       "      <td>9.903272</td>\n",
       "      <td>7.497864</td>\n",
       "      <td>82.115927</td>\n",
       "      <td>0.088863</td>\n",
       "      <td>0.426392</td>\n",
       "      <td>0.177099</td>\n",
       "      <td>3.591915</td>\n",
       "      <td>1759.548954</td>\n",
       "      <td>1808.843803</td>\n",
       "      <td>1784.196379</td>\n",
       "    </tr>\n",
       "    <tr>\n",
       "      <th>std</th>\n",
       "      <td>378.598733</td>\n",
       "      <td>129.733734</td>\n",
       "      <td>0.378666</td>\n",
       "      <td>0.399979</td>\n",
       "      <td>0.405119</td>\n",
       "      <td>0.381599</td>\n",
       "      <td>0.359213</td>\n",
       "      <td>0.406316</td>\n",
       "      <td>0.559343</td>\n",
       "      <td>0.77135</td>\n",
       "      <td>0.530832</td>\n",
       "      <td>0.474610</td>\n",
       "      <td>3.515761</td>\n",
       "      <td>0.047957</td>\n",
       "      <td>1.832415</td>\n",
       "      <td>0.840583</td>\n",
       "      <td>5.350371</td>\n",
       "      <td>8767.847252</td>\n",
       "      <td>8767.187498</td>\n",
       "      <td>8767.016913</td>\n",
       "    </tr>\n",
       "    <tr>\n",
       "      <th>min</th>\n",
       "      <td>1.000000</td>\n",
       "      <td>0.000000</td>\n",
       "      <td>0.000000</td>\n",
       "      <td>0.000000</td>\n",
       "      <td>0.000000</td>\n",
       "      <td>0.000000</td>\n",
       "      <td>0.000000</td>\n",
       "      <td>0.000000</td>\n",
       "      <td>0.000000</td>\n",
       "      <td>0.00000</td>\n",
       "      <td>0.000000</td>\n",
       "      <td>0.000000</td>\n",
       "      <td>0.000000</td>\n",
       "      <td>0.000000</td>\n",
       "      <td>0.000000</td>\n",
       "      <td>0.000000</td>\n",
       "      <td>0.000000</td>\n",
       "      <td>1.000000</td>\n",
       "      <td>1.000000</td>\n",
       "      <td>1.000000</td>\n",
       "    </tr>\n",
       "    <tr>\n",
       "      <th>25%</th>\n",
       "      <td>328.500000</td>\n",
       "      <td>14.500000</td>\n",
       "      <td>7.420000</td>\n",
       "      <td>7.330000</td>\n",
       "      <td>7.250000</td>\n",
       "      <td>7.330000</td>\n",
       "      <td>7.330000</td>\n",
       "      <td>7.330000</td>\n",
       "      <td>10.000000</td>\n",
       "      <td>10.00000</td>\n",
       "      <td>10.000000</td>\n",
       "      <td>7.250000</td>\n",
       "      <td>81.170000</td>\n",
       "      <td>0.090000</td>\n",
       "      <td>0.000000</td>\n",
       "      <td>0.000000</td>\n",
       "      <td>0.000000</td>\n",
       "      <td>1100.000000</td>\n",
       "      <td>1100.000000</td>\n",
       "      <td>1100.000000</td>\n",
       "    </tr>\n",
       "    <tr>\n",
       "      <th>50%</th>\n",
       "      <td>656.000000</td>\n",
       "      <td>175.000000</td>\n",
       "      <td>7.580000</td>\n",
       "      <td>7.580000</td>\n",
       "      <td>7.420000</td>\n",
       "      <td>7.500000</td>\n",
       "      <td>7.500000</td>\n",
       "      <td>7.500000</td>\n",
       "      <td>10.000000</td>\n",
       "      <td>10.00000</td>\n",
       "      <td>10.000000</td>\n",
       "      <td>7.500000</td>\n",
       "      <td>82.500000</td>\n",
       "      <td>0.110000</td>\n",
       "      <td>0.000000</td>\n",
       "      <td>0.000000</td>\n",
       "      <td>2.000000</td>\n",
       "      <td>1310.640000</td>\n",
       "      <td>1350.000000</td>\n",
       "      <td>1310.640000</td>\n",
       "    </tr>\n",
       "    <tr>\n",
       "      <th>75%</th>\n",
       "      <td>983.500000</td>\n",
       "      <td>275.000000</td>\n",
       "      <td>7.750000</td>\n",
       "      <td>7.750000</td>\n",
       "      <td>7.580000</td>\n",
       "      <td>7.750000</td>\n",
       "      <td>7.670000</td>\n",
       "      <td>7.750000</td>\n",
       "      <td>10.000000</td>\n",
       "      <td>10.00000</td>\n",
       "      <td>10.000000</td>\n",
       "      <td>7.750000</td>\n",
       "      <td>83.670000</td>\n",
       "      <td>0.120000</td>\n",
       "      <td>0.000000</td>\n",
       "      <td>0.000000</td>\n",
       "      <td>4.000000</td>\n",
       "      <td>1600.000000</td>\n",
       "      <td>1650.000000</td>\n",
       "      <td>1600.000000</td>\n",
       "    </tr>\n",
       "    <tr>\n",
       "      <th>max</th>\n",
       "      <td>1312.000000</td>\n",
       "      <td>1062.000000</td>\n",
       "      <td>8.750000</td>\n",
       "      <td>8.830000</td>\n",
       "      <td>8.670000</td>\n",
       "      <td>8.750000</td>\n",
       "      <td>8.580000</td>\n",
       "      <td>8.750000</td>\n",
       "      <td>10.000000</td>\n",
       "      <td>10.00000</td>\n",
       "      <td>10.000000</td>\n",
       "      <td>10.000000</td>\n",
       "      <td>90.580000</td>\n",
       "      <td>0.280000</td>\n",
       "      <td>31.000000</td>\n",
       "      <td>11.000000</td>\n",
       "      <td>55.000000</td>\n",
       "      <td>190164.000000</td>\n",
       "      <td>190164.000000</td>\n",
       "      <td>190164.000000</td>\n",
       "    </tr>\n",
       "  </tbody>\n",
       "</table>\n",
       "</div>"
      ],
      "text/plain": [
       "        Unnamed: 0  Number.of.Bags        Aroma       Flavor   Aftertaste  \\\n",
       "count  1311.000000     1311.000000  1311.000000  1311.000000  1311.000000   \n",
       "mean    656.000763      153.887872     7.563806     7.518070     7.397696   \n",
       "std     378.598733      129.733734     0.378666     0.399979     0.405119   \n",
       "min       1.000000        0.000000     0.000000     0.000000     0.000000   \n",
       "25%     328.500000       14.500000     7.420000     7.330000     7.250000   \n",
       "50%     656.000000      175.000000     7.580000     7.580000     7.420000   \n",
       "75%     983.500000      275.000000     7.750000     7.750000     7.580000   \n",
       "max    1312.000000     1062.000000     8.750000     8.830000     8.670000   \n",
       "\n",
       "           Acidity         Body      Balance   Uniformity   Clean.Cup  \\\n",
       "count  1311.000000  1311.000000  1311.000000  1311.000000  1311.00000   \n",
       "mean      7.533112     7.517727     7.517506     9.833394     9.83312   \n",
       "std       0.381599     0.359213     0.406316     0.559343     0.77135   \n",
       "min       0.000000     0.000000     0.000000     0.000000     0.00000   \n",
       "25%       7.330000     7.330000     7.330000    10.000000    10.00000   \n",
       "50%       7.500000     7.500000     7.500000    10.000000    10.00000   \n",
       "75%       7.750000     7.670000     7.750000    10.000000    10.00000   \n",
       "max       8.750000     8.580000     8.750000    10.000000    10.00000   \n",
       "\n",
       "         Sweetness  Cupper.Points  Total.Cup.Points     Moisture  \\\n",
       "count  1311.000000    1311.000000       1311.000000  1311.000000   \n",
       "mean      9.903272       7.497864         82.115927     0.088863   \n",
       "std       0.530832       0.474610          3.515761     0.047957   \n",
       "min       0.000000       0.000000          0.000000     0.000000   \n",
       "25%      10.000000       7.250000         81.170000     0.090000   \n",
       "50%      10.000000       7.500000         82.500000     0.110000   \n",
       "75%      10.000000       7.750000         83.670000     0.120000   \n",
       "max      10.000000      10.000000         90.580000     0.280000   \n",
       "\n",
       "       Category.One.Defects      Quakers  Category.Two.Defects  \\\n",
       "count           1311.000000  1310.000000           1311.000000   \n",
       "mean               0.426392     0.177099              3.591915   \n",
       "std                1.832415     0.840583              5.350371   \n",
       "min                0.000000     0.000000              0.000000   \n",
       "25%                0.000000     0.000000              0.000000   \n",
       "50%                0.000000     0.000000              2.000000   \n",
       "75%                0.000000     0.000000              4.000000   \n",
       "max               31.000000    11.000000             55.000000   \n",
       "\n",
       "       altitude_low_meters  altitude_high_meters  altitude_mean_meters  \n",
       "count          1084.000000           1084.000000           1084.000000  \n",
       "mean           1759.548954           1808.843803           1784.196379  \n",
       "std            8767.847252           8767.187498           8767.016913  \n",
       "min               1.000000              1.000000              1.000000  \n",
       "25%            1100.000000           1100.000000           1100.000000  \n",
       "50%            1310.640000           1350.000000           1310.640000  \n",
       "75%            1600.000000           1650.000000           1600.000000  \n",
       "max          190164.000000         190164.000000         190164.000000  "
      ]
     },
     "execution_count": 6,
     "metadata": {},
     "output_type": "execute_result"
    }
   ],
   "source": [
    "df.describe()"
   ]
  },
  {
   "cell_type": "markdown",
   "metadata": {},
   "source": [
    "**The total cup points will be used to meausre the overall quality of each data point.**"
   ]
  },
  {
   "cell_type": "code",
   "execution_count": 7,
   "metadata": {},
   "outputs": [
    {
     "data": {
      "text/plain": [
       "0       90.58\n",
       "1       89.92\n",
       "2       89.75\n",
       "3       89.00\n",
       "4       88.83\n",
       "        ...  \n",
       "1306    68.33\n",
       "1307    67.92\n",
       "1308    63.08\n",
       "1309    59.83\n",
       "1310     0.00\n",
       "Name: Total.Cup.Points, Length: 1311, dtype: float64"
      ]
     },
     "execution_count": 7,
     "metadata": {},
     "output_type": "execute_result"
    }
   ],
   "source": [
    "df['Total.Cup.Points']"
   ]
  },
  {
   "cell_type": "markdown",
   "metadata": {
    "id": "kCSLIafaEGVK"
   },
   "source": [
    "# Data Wrangling\n",
    "\n",
    "Perform data wrangling.  You are free to use your best judgment here.  If you are stuck, look at previous assignment."
   ]
  },
  {
   "cell_type": "markdown",
   "metadata": {
    "id": "xEkLsm7g1UiZ"
   },
   "source": [
    "**The dataset will be subsetted to contain the columns containing information about altitude and the different scores that contribute to the overall `Total.Cup.Points`.**"
   ]
  },
  {
   "cell_type": "code",
   "execution_count": 8,
   "metadata": {},
   "outputs": [
    {
     "data": {
      "text/html": [
       "<div>\n",
       "<style scoped>\n",
       "    .dataframe tbody tr th:only-of-type {\n",
       "        vertical-align: middle;\n",
       "    }\n",
       "\n",
       "    .dataframe tbody tr th {\n",
       "        vertical-align: top;\n",
       "    }\n",
       "\n",
       "    .dataframe thead th {\n",
       "        text-align: right;\n",
       "    }\n",
       "</style>\n",
       "<table border=\"1\" class=\"dataframe\">\n",
       "  <thead>\n",
       "    <tr style=\"text-align: right;\">\n",
       "      <th></th>\n",
       "      <th>Number.of.Bags</th>\n",
       "      <th>Processing.Method</th>\n",
       "      <th>altitude_mean_meters</th>\n",
       "      <th>Aroma</th>\n",
       "      <th>Flavor</th>\n",
       "      <th>Aftertaste</th>\n",
       "      <th>Acidity</th>\n",
       "      <th>Body</th>\n",
       "      <th>Balance</th>\n",
       "      <th>Uniformity</th>\n",
       "      <th>Sweetness</th>\n",
       "      <th>Total.Cup.Points</th>\n",
       "    </tr>\n",
       "  </thead>\n",
       "  <tbody>\n",
       "    <tr>\n",
       "      <th>0</th>\n",
       "      <td>300</td>\n",
       "      <td>Washed / Wet</td>\n",
       "      <td>2075.0</td>\n",
       "      <td>8.67</td>\n",
       "      <td>8.83</td>\n",
       "      <td>8.67</td>\n",
       "      <td>8.75</td>\n",
       "      <td>8.50</td>\n",
       "      <td>8.42</td>\n",
       "      <td>10.0</td>\n",
       "      <td>10.0</td>\n",
       "      <td>90.58</td>\n",
       "    </tr>\n",
       "    <tr>\n",
       "      <th>1</th>\n",
       "      <td>300</td>\n",
       "      <td>Washed / Wet</td>\n",
       "      <td>2075.0</td>\n",
       "      <td>8.75</td>\n",
       "      <td>8.67</td>\n",
       "      <td>8.50</td>\n",
       "      <td>8.58</td>\n",
       "      <td>8.42</td>\n",
       "      <td>8.42</td>\n",
       "      <td>10.0</td>\n",
       "      <td>10.0</td>\n",
       "      <td>89.92</td>\n",
       "    </tr>\n",
       "    <tr>\n",
       "      <th>2</th>\n",
       "      <td>5</td>\n",
       "      <td>NaN</td>\n",
       "      <td>1700.0</td>\n",
       "      <td>8.42</td>\n",
       "      <td>8.50</td>\n",
       "      <td>8.42</td>\n",
       "      <td>8.42</td>\n",
       "      <td>8.33</td>\n",
       "      <td>8.42</td>\n",
       "      <td>10.0</td>\n",
       "      <td>10.0</td>\n",
       "      <td>89.75</td>\n",
       "    </tr>\n",
       "    <tr>\n",
       "      <th>3</th>\n",
       "      <td>320</td>\n",
       "      <td>Natural / Dry</td>\n",
       "      <td>2000.0</td>\n",
       "      <td>8.17</td>\n",
       "      <td>8.58</td>\n",
       "      <td>8.42</td>\n",
       "      <td>8.42</td>\n",
       "      <td>8.50</td>\n",
       "      <td>8.25</td>\n",
       "      <td>10.0</td>\n",
       "      <td>10.0</td>\n",
       "      <td>89.00</td>\n",
       "    </tr>\n",
       "    <tr>\n",
       "      <th>4</th>\n",
       "      <td>300</td>\n",
       "      <td>Washed / Wet</td>\n",
       "      <td>2075.0</td>\n",
       "      <td>8.25</td>\n",
       "      <td>8.50</td>\n",
       "      <td>8.25</td>\n",
       "      <td>8.50</td>\n",
       "      <td>8.42</td>\n",
       "      <td>8.33</td>\n",
       "      <td>10.0</td>\n",
       "      <td>10.0</td>\n",
       "      <td>88.83</td>\n",
       "    </tr>\n",
       "  </tbody>\n",
       "</table>\n",
       "</div>"
      ],
      "text/plain": [
       "   Number.of.Bags Processing.Method  altitude_mean_meters  Aroma  Flavor  \\\n",
       "0             300      Washed / Wet                2075.0   8.67    8.83   \n",
       "1             300      Washed / Wet                2075.0   8.75    8.67   \n",
       "2               5               NaN                1700.0   8.42    8.50   \n",
       "3             320     Natural / Dry                2000.0   8.17    8.58   \n",
       "4             300      Washed / Wet                2075.0   8.25    8.50   \n",
       "\n",
       "   Aftertaste  Acidity  Body  Balance  Uniformity  Sweetness  Total.Cup.Points  \n",
       "0        8.67     8.75  8.50     8.42        10.0       10.0             90.58  \n",
       "1        8.50     8.58  8.42     8.42        10.0       10.0             89.92  \n",
       "2        8.42     8.42  8.33     8.42        10.0       10.0             89.75  \n",
       "3        8.42     8.42  8.50     8.25        10.0       10.0             89.00  \n",
       "4        8.25     8.50  8.42     8.33        10.0       10.0             88.83  "
      ]
     },
     "execution_count": 8,
     "metadata": {},
     "output_type": "execute_result"
    }
   ],
   "source": [
    "coffee = df[['Number.of.Bags','Processing.Method','altitude_mean_meters','Aroma','Flavor','Aftertaste','Acidity','Body','Balance','Uniformity','Sweetness','Total.Cup.Points']]\n",
    "coffee.head()"
   ]
  },
  {
   "cell_type": "markdown",
   "metadata": {},
   "source": [
    "**This analysis will consider the farms that have produced at least 100 bags of coffee. The dataset is further cleaned in preparation for data visualization.** \n",
    "\n",
    "**The only column with string datatype is `Processing.Method` and there 6 unique values. This is not an overwhelming number and will be used as is.**\n",
    "\n",
    "**Since there is a scatter of null values between `Processing.Method` and `altitude_mean_meters`, just removing these values would be as significant as losing 15% or more of the data. So since each of these columns will be considered separately, the null values may be removed if appropriate when visualization is performed.**"
   ]
  },
  {
   "cell_type": "code",
   "execution_count": 9,
   "metadata": {},
   "outputs": [
    {
     "name": "stdout",
     "output_type": "stream",
     "text": [
      "(703, 12)\n",
      "<class 'pandas.core.frame.DataFrame'>\n",
      "Int64Index: 703 entries, 0 to 1310\n",
      "Data columns (total 12 columns):\n",
      " #   Column                Non-Null Count  Dtype  \n",
      "---  ------                --------------  -----  \n",
      " 0   Number.of.Bags        703 non-null    int64  \n",
      " 1   Processing.Method     616 non-null    object \n",
      " 2   altitude_mean_meters  597 non-null    float64\n",
      " 3   Aroma                 703 non-null    float64\n",
      " 4   Flavor                703 non-null    float64\n",
      " 5   Aftertaste            703 non-null    float64\n",
      " 6   Acidity               703 non-null    float64\n",
      " 7   Body                  703 non-null    float64\n",
      " 8   Balance               703 non-null    float64\n",
      " 9   Uniformity            703 non-null    float64\n",
      " 10  Sweetness             703 non-null    float64\n",
      " 11  Total.Cup.Points      703 non-null    float64\n",
      "dtypes: float64(10), int64(1), object(1)\n",
      "memory usage: 71.4+ KB\n",
      "There are 6 unique values under column, `Processing.Method`\n",
      "15.078236130867708\n"
     ]
    }
   ],
   "source": [
    "#filter using conditional statement\n",
    "coffee = coffee[coffee['Number.of.Bags'] > 100]\n",
    "print(coffee.shape)\n",
    "coffee.head()\n",
    "\n",
    "#All but processing method and number of bags are floats. The number of bags is in int form as expected. The unique values for the `Processing.Method` are viewed to ensure there is consistent labeling.\n",
    "coffee.info()\n",
    "coffee['Processing.Method'].unique()\n",
    "print('There are',len(coffee['Processing.Method'].unique()),'unique values under column, `Processing.Method`')\n",
    "\n",
    "#Number of null values under `Processing.Method`. The percent that the null values make up the dataset is calculated.\n",
    "null_values_count = coffee['altitude_mean_meters'].isnull().sum()\n",
    "print(null_values_count/len(coffee['altitude_mean_meters'])*100)"
   ]
  },
  {
   "cell_type": "markdown",
   "metadata": {
    "id": "uJdF3TMe_TXU"
   },
   "source": [
    "# Visualizations\n",
    "\n",
    "The main purpose of this assignment is to practice creating various visualizations using the matplotlib and seaborn library.\n",
    "\n",
    "### **Part 1:**\n",
    "Using matplotlib, create ***two or more plots*** that incorporate at least **5** of the following properties:\n",
    "\n",
    "Note: these properties vary based on your data.  The goal is to practice creating visualizations and modifying its properties. \n",
    "\n",
    "*   Use and change a legend position\n",
    "*   Change a legend font size\n",
    "*   Place a legend outside of the plot\n",
    "*   Create a single legend for all subplots\n",
    "*   Change the title and x/y labels\n",
    "*   Change the marker, line colors, and line width\n",
    "*   Add annotations\n",
    "*   Modify Axis Text Ticks/Labels\n",
    "*   Change size of axis Labels\n",
    "*   Your own choice not included above \n",
    "\n",
    "\n",
    "Plots that you can create **include**:\n",
    "\n",
    "*   Scatter Plot\n",
    "*   Bar plot\n",
    "*   Line Chart\n",
    "*   Multi Plots (e.g. using .subplot()\n",
    "*   Histogram\n",
    "\n",
    "You can add another plot not listed here if it works better for your data.  This is not a complete list of plots to create.\n"
   ]
  },
  {
   "cell_type": "markdown",
   "metadata": {},
   "source": [
    "**For the first plot, a histogram will be generated to visualize the distribution of Total.Cup.Points in this dataset. Using matplotlib library's hist(), the histogram is shown below. The distribution is skewed to the left with an outlier to the left as well. For that reason, the median is considered to measure centrality of the distribution. A dashed black vertical line is placed at the median of 82.75 points. Generally, a coffee score of 60-80 is found in commercial coffee and anything greater than 80 is considered specialty. This dataset is generally centered around specialty level coffee.**"
   ]
  },
  {
   "cell_type": "code",
   "execution_count": 38,
   "metadata": {},
   "outputs": [
    {
     "data": {
      "text/plain": [
       "<matplotlib.legend.Legend at 0x7f9770f2da30>"
      ]
     },
     "execution_count": 38,
     "metadata": {},
     "output_type": "execute_result"
    },
    {
     "data": {
      "image/png": "[encoded data removed]",
      "text/plain": [
       "<Figure size 648x432 with 1 Axes>"
      ]
     },
     "metadata": {
      "needs_background": "light"
     },
     "output_type": "display_data"
    }
   ],
   "source": [
    "from matplotlib import pyplot as plt\n",
    "import numpy as np\n",
    "\n",
    "plt.subplots(figsize = (9,6)) #sets dimension of plot. \n",
    "plt.hist(coffee['Total.Cup.Points'], bins = 30, edgecolor = \"Black\", color = 'Green', alpha = 0.5) # set bin to 30 to better see distributiuon\n",
    "plt.title('Total Cup Point Distribution', size = 20) #Set title and its font\n",
    "plt.xlabel('Total Cup Points', size = 15) #Set xlabel size and label\n",
    "plt.ylabel('Count', size = 15) #Set xlabel size and label\n",
    "\n",
    "median_points = np.median(coffee['Total.Cup.Points']) #calculate median of Total Cup Points\n",
    "#add vertical axis line at median; use median to measure centrality due to heavy skewness. Add black dashed linestyle with width of 1. The label in the legend is defined here as well. \n",
    "plt.axvline(median_points, color = 'Black', ls = '--', linewidth = 1,label = 'Median of Points: {}'.format(median_points))\n",
    "plt.legend(fontsize = 13, bbox_to_anchor = (1,1)) #add legend with larger fontsize, place legend outside of plot"
   ]
  },
  {
   "cell_type": "markdown",
   "metadata": {},
   "source": [
    "**For the second plot, a scatter plot is chosen to plot `altitude_mean_meters` vs. `Total.Cup.Points`. There are noticeably distant outliers in both variables as shown below. For the purpose of this assignment the larger cluster of data points to the upper left quadrant of the plot will be studied. If there was more time, the different clusters of points would be analyzed separately.** "
   ]
  },
  {
   "cell_type": "code",
   "execution_count": 26,
   "metadata": {},
   "outputs": [
    {
     "data": {
      "text/plain": [
       "[<matplotlib.lines.Line2D at 0x7f9779c91ca0>]"
      ]
     },
     "execution_count": 26,
     "metadata": {},
     "output_type": "execute_result"
    },
    {
     "data": {
      "image/png": "[encoded data removed]",
      "text/plain": [
       "<Figure size 432x288 with 1 Axes>"
      ]
     },
     "metadata": {
      "needs_background": "light"
     },
     "output_type": "display_data"
    }
   ],
   "source": [
    "#raw plot of variables as is from data, coffee\n",
    "plt.plot('altitude_mean_meters','Total.Cup.Points',data = coffee, linestyle = 'none', marker = 'o')"
   ]
  },
  {
   "cell_type": "markdown",
   "metadata": {},
   "source": [
    "**As explained earlier, this section will analyze the larger of cluster of points, which makes up about 84% of the data points. This cluster is isolated by removing the outliers from both variables. For `Total.Cup.Points` points outside of a z-score of -3 and 3 are removed since this will only remove 0.26% of the data, which is insignificant. For variable `altitude_mean_meters`, points with altitude greater than 10,000 meters are removed, which makes up majority of the total points that are removed. The high values of this variable were a significant contributor to the other clusters.**"
   ]
  },
  {
   "cell_type": "code",
   "execution_count": 28,
   "metadata": {},
   "outputs": [
    {
     "name": "stdout",
     "output_type": "stream",
     "text": [
      "Outliers from `Total.Cup.Points` and `altitude_mean_meters` are removed. 16.216216216216218 percent of the coffee dataset has outliers outside z-score of -3.0 and 3.0 and altitude levels greater than 10,000 meters. This should not make a big impact on the scatter plot trend.\n"
     ]
    },
    {
     "data": {
      "image/png": "[encoded data removed]",
      "text/plain": [
       "<Figure size 432x288 with 1 Axes>"
      ]
     },
     "metadata": {
      "needs_background": "light"
     },
     "output_type": "display_data"
    }
   ],
   "source": [
    "#scipy library is imported to access statistics based tools\n",
    "import scipy.stats as stats\n",
    "\n",
    "#A new column `z_score_points` is created and and z-score of `Total.Cup.Points` is calculated for every row.  \n",
    "coffee['z_score_points'] = stats.zscore(coffee['Total.Cup.Points'])\n",
    "\n",
    "#new dataframe coffee_trunc is created and conditional statements are used to filter out rows with z-scores less than -3.0 and greater than 3.0.\n",
    "coffee_trunc = coffee[np.logical_and(coffee['z_score_points'] > -3.0, coffee['z_score_points'] < 3.0)]\n",
    "\n",
    "#the dataframe is further truncated by removing altitude values greater than 10k meters. Results of proportion of points removed from coffee to coffee_trunc is printed. \n",
    "coffee_trunc = coffee_trunc[coffee_trunc['altitude_mean_meters']<10000]\n",
    "print('Outliers from `Total.Cup.Points` and `altitude_mean_meters` are removed.',(1-(len(coffee_trunc.index)/len(coffee.index)))*100,'percent of the coffee dataset has outliers outside z-score of -3.0 and 3.0 and altitude levels greater than 10,000 meters. This should not make a big impact on the scatter plot trend.')\n",
    "\n",
    "#The points are plotted, to check if the cluster was captured correctly before plotting with all the formatting details. \n",
    "plt.plot('altitude_mean_meters','Total.Cup.Points',data = coffee_trunc, linestyle = 'none', marker = 'o')\n",
    "plt.show()\n",
    "    "
   ]
  },
  {
   "cell_type": "markdown",
   "metadata": {},
   "source": [
    "**The final plot of Plot 2 is displayed below. It is generally understood that coffee harvested from higher altitudes will yield better quality coffee. By visualization it is apparent that there is no obvious correlation between altitude and quality. There appears to be more data points of the washed/wet processing method. Altitude does not have a strong correlation to predicting coffee quality**"
   ]
  },
  {
   "cell_type": "code",
   "execution_count": 13,
   "metadata": {},
   "outputs": [
    {
     "data": {
      "text/plain": [
       "Text(0, 0.5, 'Altitude (meters)')"
      ]
     },
     "execution_count": 13,
     "metadata": {},
     "output_type": "execute_result"
    },
    {
     "data": {
      "image/png": "[encoded data removed]",
      "text/plain": [
       "<Figure size 648x432 with 1 Axes>"
      ]
     },
     "metadata": {
      "needs_background": "light"
     },
     "output_type": "display_data"
    }
   ],
   "source": [
    "#array of unique values to Processing Method\n",
    "METHOD = coffee_trunc['Processing.Method'].unique()\n",
    "#colors are defined for each processing method in order\n",
    "COLORS = ['#A52A2A','#1b9e77','#771b9e','#76EE00','#ff9966','#fdee00']\n",
    "\n",
    "#x and y values defined\n",
    "x_values = coffee_trunc['altitude_mean_meters'].values\n",
    "y_values = coffee_trunc['Total.Cup.Points'].values\n",
    "\n",
    "#figure size is defined to be consistent with previous plots.\n",
    "fig, ax = plt.subplots(figsize = (9,6))\n",
    "#a for loop to iterate through 2 variables, method and colors is used to plot each processing method and assigning the colors from COLORS array.\n",
    "for method,color in zip(METHOD, COLORS):\n",
    "    idxs = np.where(coffee_trunc['Processing.Method'] == method)\n",
    "    ax.scatter(x_values[idxs],y_values[idxs],label = method,\n",
    "               color = color)\n",
    "#legend is plotted with font size 10, title defined, and anchoring the legend figure outside of the plot.\n",
    "ax.legend(fontsize = 10, title = 'Processing Method', bbox_to_anchor = (1,1))\n",
    "ax.set_title('Altitude vs. Total Points', size = 20) #Set title font\n",
    "ax.set_xlabel('Total Coffee Points', size = 15) #Set xlabel size and label\n",
    "ax.set_ylabel('Altitude (meters)', size = 15) #Set xlabel size and label"
   ]
  },
  {
   "cell_type": "markdown",
   "metadata": {},
   "source": [
    "### **Part 2:**\n",
    "\n",
    "Recreate the visualizations above using the Seaborn library as best as possible.  \n",
    "\n",
    "\n",
    "**You are required to explain what each of your plots is representing. Plots without comments will not be accepted.**  In addition, please explain the properties you are showcasing."
   ]
  },
  {
   "cell_type": "markdown",
   "metadata": {},
   "source": [
    "**The first plot from part 1 is re-plotted using the seaborn package.**"
   ]
  },
  {
   "cell_type": "code",
   "execution_count": 39,
   "metadata": {},
   "outputs": [
    {
     "data": {
      "text/plain": [
       "<matplotlib.legend.Legend at 0x7f9779ae3970>"
      ]
     },
     "execution_count": 39,
     "metadata": {},
     "output_type": "execute_result"
    },
    {
     "data": {
      "image/png": "[encoded data removed]",
      "text/plain": [
       "<Figure size 648x432 with 1 Axes>"
      ]
     },
     "metadata": {
      "needs_background": "light"
     },
     "output_type": "display_data"
    }
   ],
   "source": [
    "import seaborn as sns\n",
    "import matplotlib.pyplot as plt\n",
    "\n",
    "# set figure size \n",
    "plt.figure(figsize=(9, 6))\n",
    "\n",
    "# create histogram plot using seaborn. Similar to matplotlib plots, the bins size is increased, color is defined to green, and transparency is included. \n",
    "sns.histplot(data = coffee['Total.Cup.Points'], bins = 30, color = 'Green', alpha = 0.5)\n",
    "\n",
    "# labels defined with re-sizing of fonts.  \n",
    "plt.ylabel('Count', size = 15)\n",
    "plt.xlabel('Total Cup Points', size = 15)\n",
    "plt.title('Total Cup Distribution', size = 20)\n",
    "\n",
    "#median line is defined with a black dashed line type. The median point is labeled in the legend with the median value. \n",
    "plt.axvline(median_points, color = 'Black', ls = '--', linewidth = 1,label = 'Median of Points: {}'.format(median_points)) #add vertical axis line at median; use median to measure centrality due to heavy skewness\n",
    "#legend is plotted outside the histogram plot\n",
    "plt.legend(fontsize = 13, bbox_to_anchor = (1,1)) #add legend with larger fontsize, place legend outside of plot\n"
   ]
  },
  {
   "cell_type": "markdown",
   "metadata": {},
   "source": [
    "**The second plot from part 1 is re-plotted here using the seaborn package.**"
   ]
  },
  {
   "cell_type": "code",
   "execution_count": 40,
   "metadata": {},
   "outputs": [
    {
     "name": "stdout",
     "output_type": "stream",
     "text": [
      "{'Washed / Wet': '#A52A2A', 'Natural / Dry': '#1b9e77', nan: '#771b9e', 'Other': '#76EE00', 'Semi-washed / Semi-pulped': '#ff9966', 'Pulped natural / honey': '#fdee00'}\n"
     ]
    },
    {
     "data": {
      "text/plain": [
       "<matplotlib.legend.Legend at 0x7f9779fbe100>"
      ]
     },
     "execution_count": 40,
     "metadata": {},
     "output_type": "execute_result"
    },
    {
     "data": {
      "image/png": "[encoded data removed]",
      "text/plain": [
       "<Figure size 648x432 with 1 Axes>"
      ]
     },
     "metadata": {
      "needs_background": "light"
     },
     "output_type": "display_data"
    }
   ],
   "source": [
    "# The different unique processing methods are listed in the array, method. \n",
    "method = coffee_trunc['Processing.Method'].unique()\n",
    "# The associated colors assigned to each unique processing method is compiled in array, colors.\n",
    "colors = ['#A52A2A','#1b9e77','#771b9e','#76EE00','#ff9966','#fdee00']\n",
    "\n",
    "# An empty dictionary is created and a for loop that iterates through variables m and c will create a dictionary of methods and their associated colors. \n",
    "dict = {}\n",
    "for m, c in zip(method, colors):\n",
    "    dict[m] = c\n",
    "print(dict)\n",
    "\n",
    "# The plot's figure size is defined to be consistent with its matplotlib plot in part 1. \n",
    "plt.figure(figsize=(9,6))\n",
    "\n",
    "# The sns.scatterplot is used with inputs of the x and y axis data. The size, s of the plotted points is defined as 70. \n",
    "# Color of the the points will distinguish which points have undergone a specific processing method. The column in the dataset that will define color is `Processing.Method`.\n",
    "#The palette will take an input of the dictionary defined earlier to define specific colors for each processing method type. \n",
    "sns.scatterplot(x = 'altitude_mean_meters', y = 'Total.Cup.Points', s = 70,data = coffee_trunc, hue = 'Processing.Method', palette = dict)\n",
    "\n",
    "# x and y axis titles and plot titles and their font sizes are defined here to be consistent with the matplotlib scatter plot. \n",
    "plt.ylabel('Total Cup Points', size = 15)\n",
    "plt.xlabel('altitude', size = 15)\n",
    "plt.title('Altitude vs. Total Points', size = 20)\n",
    "\n",
    "# similar to part 1, legend is anchored outside of the scatter plot. \n",
    "plt.legend(fontsize = 10, title = 'Processing Method', bbox_to_anchor = (1,1))"
   ]
  },
  {
   "cell_type": "markdown",
   "metadata": {
    "id": "4VWWvvynEiQT"
   },
   "source": [
    "### **Part 3:**\n",
    "In a comment or text box, explain the differences between creating a plot in matplotlib and seaborn, based on your above plots."
   ]
  },
  {
   "cell_type": "markdown",
   "metadata": {
    "id": "N9sKmrIrDbhd"
   },
   "source": [
    "**histogram plots**\n",
    "\n",
    "When plotting the histogram in matplotlib vs seaborn, it is apparent that seaborn has more built-in functions. For example, seaborn automatically outlines the hitogram bars in black for better visibility while matplotlib accepts an extra attribute, linecolor, to do this. \n",
    "\n",
    "**Scatter plot**\n",
    "\n",
    "When plotting the scatter plot in matplotlib, there weren't already built-in functionality to define certain features. One example is distinguishing certain points based on a specific column. Seaborn has a built in method that will allow you to define the column to distinguish color and it will accept a dictionary if the user wants to have control of what colors are to be used. In matplotlib, a for loop had to be used to iterate and find all points associated with a certain value and plot all values under a specific color. This feature was very straightforward to use in Seaborn without the need for a loop. There are also seems to be more control of specific attributes of the plot such as the size of the data points. \n",
    "\n",
    "Overall, seaborn was more convenient to use than matplotlib alone. Seaborn has a lot of built-in functionality of commonly used visualization tools. "
   ]
  },
  {
   "cell_type": "markdown",
   "metadata": {
    "id": "vFa4bNTyDbzb"
   },
   "source": []
  },
  {
   "cell_type": "markdown",
   "metadata": {
    "id": "tujjevRpXEen"
   },
   "source": [
    "# Conclusions  \n",
    "\n",
    "After exploring your dataset, provide a short summary of what you noticed from this dataset.  "
   ]
  },
  {
   "cell_type": "markdown",
   "metadata": {
    "id": "SshtuQj9XR5_"
   },
   "source": [
    "**A stastical analysis was not performed in this analysis to reject or accept the hypothesis that there is a correlation between quality of coffee and height at which the coffee grew in. However by data visualization, there seemed to be more evidence to reject the hypothesis than to accept it. The important note to make here is that the coffee scores are strongly centered around 82%, which is within the specialty coffee range. There were very few data points below a score of 70 even. Commercial coffee falls between the scores 60-80 so this lack of spread in the distribution would make it difficult to draw any evidence on the correlation of height and coffee quality for data points that fall in the commercial grade range.** "
   ]
  },
  {
   "cell_type": "code",
   "execution_count": null,
   "metadata": {},
   "outputs": [],
   "source": []
  }
 ],
 "metadata": {
  "colab": {
   "name": "08_assignment.ipynb",
   "provenance": []
  },
  "kernelspec": {
   "display_name": "Python 3 (ipykernel)",
   "language": "python",
   "name": "python3"
  },
  "language_info": {
   "codemirror_mode": {
    "name": "ipython",
    "version": 3
   },
   "file_extension": ".py",
   "mimetype": "text/x-python",
   "name": "python",
   "nbconvert_exporter": "python",
   "pygments_lexer": "ipython3",
   "version": "3.9.12"
  }
 },
 "nbformat": 4,
 "nbformat_minor": 4
}
